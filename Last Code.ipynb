{
 "cells": [
  {
   "cell_type": "markdown",
   "id": "e16f6850-2dd7-43c4-a600-6a0f6f8f5f15",
   "metadata": {},
   "source": [
    "### Import Library"
   ]
  },
  {
   "cell_type": "code",
   "execution_count": 1,
   "id": "779bc156-04d9-449d-8f19-c2856c4def8f",
   "metadata": {},
   "outputs": [
    {
     "name": "stderr",
     "output_type": "stream",
     "text": [
      "C:\\Users\\TOP\\anaconda3\\envs\\evn8\\lib\\site-packages\\scipy\\__init__.py:177: UserWarning: A NumPy version >=1.18.5 and <1.26.0 is required for this version of SciPy (detected version 1.18.4\n",
      "  warnings.warn(f\"A NumPy version >={np_minversion} and <{np_maxversion}\"\n"
     ]
    }
   ],
   "source": [
    "import os\n",
    "import numpy as np\n",
    "import pandas as pd\n",
    "import random\n",
    "import tensorflow as tf\n",
    "from sklearn.utils import shuffle\n",
    "from datetime import datetime\n",
    "from collections import Counter\n",
    "from scipy.stats import  ks_2samp, chi2_contingency\n",
    "import matplotlib.pyplot as plt\n",
    "from scipy import stats\n",
    "from tensorflow.keras.utils import to_categorical\n",
    "from sklearn.model_selection import train_test_split\n",
    "from tensorflow.keras.optimizers import Adam\n",
    "from tensorflow.keras.models import Sequential\n",
    "from tensorflow.keras.datasets import mnist\n",
    "from tensorflow.keras.layers import Dense, Dropout,BatchNormalization  \n",
    "\n",
    "import nest_asyncio\n",
    "nest_asyncio.apply()\n",
    "\n",
    "# تنظیم بذر تصادفی برای تکرارپذیری\n",
    "np.random.seed(42)"
   ]
  },
  {
   "cell_type": "markdown",
   "id": "7d246e04-aec6-4a91-8693-ef6fa34d0854",
   "metadata": {},
   "source": [
    "### Create Model "
   ]
  },
  {
   "cell_type": "code",
   "execution_count": 2,
   "id": "6987f8a1-152d-4002-a8ee-cd772b6324a5",
   "metadata": {},
   "outputs": [],
   "source": [
    "# تابع ساخت مدل MLP\n",
    "def create_mnist_mlp_model():\n",
    "    model = Sequential()\n",
    "    model.add(Dense(128, activation='relu', input_shape=(784,)))\n",
    "    # model.add(Dropout(0.5))\n",
    "    model.add(BatchNormalization())  \n",
    "    model.add(Dense(128, activation='relu'))\n",
    "    # model.add(Dropout(0.3))\n",
    "    model.add(Dense(10, activation='softmax')) \n",
    "    optimizer = Adam(learning_rate=0.01)\n",
    "    return model"
   ]
  },
  {
   "cell_type": "markdown",
   "id": "e4062329-af4d-4e7f-ac24-3d06b83fa354",
   "metadata": {},
   "source": [
    "### Load and Split"
   ]
  },
  {
   "cell_type": "code",
   "execution_count": 3,
   "id": "f4565aca-8960-4e75-be06-fee6f7efd05d",
   "metadata": {},
   "outputs": [],
   "source": [
    "# لود کردن داده‌های MNIST\n",
    "(x_train, y_train), (x_test, y_test) = tf.keras.datasets.mnist.load_data()\n",
    "\n",
    "# ترکیب داده‌ها و برچسب‌ها برای شافل کردن با zip\n",
    "combined = list(zip(x_train, y_train))\n",
    "\n",
    "# شافل کردن داده‌ها\n",
    "np.random.shuffle(combined)\n",
    "\n",
    "# جداسازی داده‌ها و برچسب‌ها پس از شافل\n",
    "x_train, y_train = zip(*combined)\n",
    "\n",
    "# تبدیل به آرایه numpy\n",
    "x_train = np.array(x_train)\n",
    "y_train = np.array(y_train)\n",
    "\n",
    "# شافل کردن داده‌ها\n",
    "# x_train, y_train = shuffle(x_train, y_train)\n",
    "\n",
    "# نرمال‌سازی داده‌ها\n",
    "x_train = x_train.astype('float32') / 255.0\n",
    "x_test = x_test.astype('float32') / 255.0\n",
    "\n",
    "# مسطح کردن تصاویر\n",
    "x_train = x_train.reshape(-1, 784)\n",
    "x_test = x_test.reshape(-1, 784)\n",
    "\n",
    "# کدگذاری لیبل‌ها\n",
    "y_train = to_categorical(y_train, 10)\n",
    "y_test = to_categorical(y_test, 10)\n",
    "\n",
    "# تقسیم داده‌ها بین کلاینت ها\n",
    "num_clients =5\n",
    "client_data = np.array_split(x_train, num_clients)\n",
    "client_labels = np.array_split(y_train, num_clients)"
   ]
  },
  {
   "cell_type": "code",
   "execution_count": 4,
   "id": "3078ae15-7217-4ea7-8b1c-44f667c9f760",
   "metadata": {},
   "outputs": [
    {
     "data": {
      "image/png": "[encoded data removed]",
      "text/plain": [
       "<Figure size 2500x500 with 5 Axes>"
      ]
     },
     "metadata": {},
     "output_type": "display_data"
    }
   ],
   "source": [
    "import matplotlib.pyplot as plt\n",
    "plt.figure(figsize=(25, 5))  # اندازه‌ی بزرگتر برای وضوح بیشتر\n",
    "for i in range(5):\n",
    "    plt.subplot(1, 5, i+1)  # 1 سطر و 5 ستون برای نمایش 5 تصویر\n",
    "    image = x_train[i].reshape(28, 28)  # تغییر ابعاد به 28x28 برای نمایش تصویر\n",
    "    plt.imshow(image, cmap='gray')  # فرض می‌کنیم که داده‌ها به صورت grayscale هستند\n",
    "    plt.title(f\"Label: {y_train[i]}\")  # نمایش لیبل به صورت عددی (مثلاً 4 به جای [0,0,0,0,1])\n",
    "    plt.axis('off')  # خاموش کردن محورهای نمودار\n",
    "plt.show()"
   ]
  },
  {
   "cell_type": "markdown",
   "id": "ed859481-34a4-42c2-8527-a7f0fc08f674",
   "metadata": {},
   "source": [
    "### Bug Injection"
   ]
  },
  {
   "cell_type": "code",
   "execution_count": 5,
   "id": "e2d7ce6a-3154-4e2c-8dbe-af07a4ee0097",
   "metadata": {},
   "outputs": [],
   "source": [
    "# random.seed(10)\n",
    "# # تعداد کلاینت‌ها را مشخص کنید\n",
    "# num_clients = len(client_data)\n",
    "\n",
    "# # انتخاب تصادفی یک کلاینت\n",
    "# # clients_to_double_normalize = [random.randint(0, num_clients - 1)]\n",
    "\n",
    "# # نسبت انتخاب کلاینت‌ها (به صورت کسری)\n",
    "# fraction_to_select = 0.25\n",
    "\n",
    "# # تعداد کلاینت‌هایی که باید انتخاب شوند\n",
    "# num_clients_to_select = int(fraction_to_select * num_clients)\n",
    "\n",
    "# # انتخاب تصادفی کلاینت‌ها\n",
    "# clients_to_double_normalize = random.sample(range(num_clients), num_clients_to_select)\n",
    "\n",
    "# # چاپ کلاینت‌های انتخاب‌شده\n",
    "# print(f\"Number of selected clients: {len(clients_to_double_normalize)}\")\n",
    "\n",
    "# print(\"Selected clients for double normalization:\", clients_to_double_normalize)\n",
    "\n",
    "# # دوبار نرمال‌سازی کلاینت‌های مشخص‌شده\n",
    "# for client_index in clients_to_double_normalize:\n",
    "#     client_data[client_index] = client_data[client_index] / 255.0"
   ]
  },
  {
   "cell_type": "markdown",
   "id": "add0d5ac-edf8-47c8-965d-e70ddd0269c5",
   "metadata": {},
   "source": [
    "### Bugless"
   ]
  },
  {
   "cell_type": "code",
   "execution_count": 6,
   "id": "e8711f8c-428b-4b53-83ac-58ad1d57a7a4",
   "metadata": {},
   "outputs": [],
   "source": [
    "# لیستی از کلاینت‌هایی که باید دوبار نرمال‌سازی شوند\n",
    "clients_to_double_normalize = []  \n",
    "\n",
    "# دوبار نرمال‌سازی کلاینت‌های مشخص‌شده\n",
    "for client_index in clients_to_double_normalize:\n",
    "    client_data[client_index] = client_data[client_index] / 255.0\n",
    "\n",
    "# پوشه‌ای برای ذخیره پارامترهای کلاینت‌ها ایجاد می‌کنیم\n",
    "if not os.path.exists('client_params'):\n",
    "    os.makedirs('client_params')"
   ]
  },
  {
   "cell_type": "markdown",
   "id": "9a2523be-3749-4df3-bb41-b3470a3b5cac",
   "metadata": {},
   "source": [
    "### Models training & save"
   ]
  },
  {
   "cell_type": "code",
   "execution_count": 7,
   "id": "459da808-8791-4fa9-8768-2b7b2257b134",
   "metadata": {},
   "outputs": [
    {
     "name": "stdout",
     "output_type": "stream",
     "text": [
      "Training model for client 0\n",
      "Epoch 1/10\n",
      "375/375 [==============================] - 1s 2ms/step - loss: 0.4001 - accuracy: 0.8798\n",
      "Epoch 2/10\n",
      "375/375 [==============================] - 1s 2ms/step - loss: 0.1645 - accuracy: 0.9500\n",
      "Epoch 3/10\n",
      "375/375 [==============================] - 1s 3ms/step - loss: 0.1130 - accuracy: 0.9655\n",
      "Epoch 4/10\n",
      "375/375 [==============================] - 1s 2ms/step - loss: 0.0805 - accuracy: 0.9756\n",
      "Epoch 5/10\n",
      "375/375 [==============================] - 1s 2ms/step - loss: 0.0638 - accuracy: 0.9794\n",
      "Epoch 6/10\n",
      "375/375 [==============================] - 1s 3ms/step - loss: 0.0498 - accuracy: 0.9826\n",
      "Epoch 7/10\n",
      "375/375 [==============================] - 1s 2ms/step - loss: 0.0435 - accuracy: 0.9860\n",
      "Epoch 8/10\n",
      "375/375 [==============================] - 1s 2ms/step - loss: 0.0332 - accuracy: 0.9897\n",
      "Epoch 9/10\n",
      "375/375 [==============================] - 1s 2ms/step - loss: 0.0367 - accuracy: 0.9884\n",
      "Epoch 10/10\n",
      "375/375 [==============================] - 1s 2ms/step - loss: 0.0300 - accuracy: 0.9907\n",
      "Training model for client 1\n",
      "Epoch 1/10\n",
      "375/375 [==============================] - 1s 2ms/step - loss: 0.3986 - accuracy: 0.8756\n",
      "Epoch 2/10\n",
      "375/375 [==============================] - 1s 2ms/step - loss: 0.1703 - accuracy: 0.9488\n",
      "Epoch 3/10\n",
      "375/375 [==============================] - 1s 3ms/step - loss: 0.1094 - accuracy: 0.9674\n",
      "Epoch 4/10\n",
      "375/375 [==============================] - 1s 2ms/step - loss: 0.0803 - accuracy: 0.9746\n",
      "Epoch 5/10\n",
      "375/375 [==============================] - 1s 2ms/step - loss: 0.0619 - accuracy: 0.9810\n",
      "Epoch 6/10\n",
      "375/375 [==============================] - 1s 3ms/step - loss: 0.0518 - accuracy: 0.9839\n",
      "Epoch 7/10\n",
      "375/375 [==============================] - 1s 2ms/step - loss: 0.0487 - accuracy: 0.9841\n",
      "Epoch 8/10\n",
      "375/375 [==============================] - 1s 2ms/step - loss: 0.0403 - accuracy: 0.9861\n",
      "Epoch 9/10\n",
      "375/375 [==============================] - 1s 2ms/step - loss: 0.0329 - accuracy: 0.9887\n",
      "Epoch 10/10\n",
      "375/375 [==============================] - 1s 1ms/step - loss: 0.0330 - accuracy: 0.9897\n",
      "Training model for client 2\n",
      "Epoch 1/10\n",
      "375/375 [==============================] - 1s 2ms/step - loss: 0.4087 - accuracy: 0.8788\n",
      "Epoch 2/10\n",
      "375/375 [==============================] - 1s 2ms/step - loss: 0.1778 - accuracy: 0.9452\n",
      "Epoch 3/10\n",
      "375/375 [==============================] - 1s 2ms/step - loss: 0.1189 - accuracy: 0.9615\n",
      "Epoch 4/10\n",
      "375/375 [==============================] - 1s 2ms/step - loss: 0.0892 - accuracy: 0.9706\n",
      "Epoch 5/10\n",
      "375/375 [==============================] - 1s 3ms/step - loss: 0.0648 - accuracy: 0.9800\n",
      "Epoch 6/10\n",
      "375/375 [==============================] - 1s 2ms/step - loss: 0.0509 - accuracy: 0.9839\n",
      "Epoch 7/10\n",
      "375/375 [==============================] - 1s 3ms/step - loss: 0.0496 - accuracy: 0.9831\n",
      "Epoch 8/10\n",
      "375/375 [==============================] - 1s 3ms/step - loss: 0.0405 - accuracy: 0.9864\n",
      "Epoch 9/10\n",
      "375/375 [==============================] - 1s 2ms/step - loss: 0.0345 - accuracy: 0.9877\n",
      "Epoch 10/10\n",
      "375/375 [==============================] - 1s 2ms/step - loss: 0.0328 - accuracy: 0.9882\n",
      "Training model for client 3\n",
      "Epoch 1/10\n",
      "375/375 [==============================] - 1s 2ms/step - loss: 0.4087 - accuracy: 0.8774\n",
      "Epoch 2/10\n",
      "375/375 [==============================] - 1s 2ms/step - loss: 0.1679 - accuracy: 0.9503\n",
      "Epoch 3/10\n",
      "375/375 [==============================] - 1s 1ms/step - loss: 0.1096 - accuracy: 0.9663\n",
      "Epoch 4/10\n",
      "375/375 [==============================] - 1s 2ms/step - loss: 0.0845 - accuracy: 0.9741\n",
      "Epoch 5/10\n",
      "375/375 [==============================] - 1s 3ms/step - loss: 0.0663 - accuracy: 0.9793\n",
      "Epoch 6/10\n",
      "375/375 [==============================] - 1s 2ms/step - loss: 0.0545 - accuracy: 0.9831\n",
      "Epoch 7/10\n",
      "375/375 [==============================] - 1s 2ms/step - loss: 0.0533 - accuracy: 0.9827\n",
      "Epoch 8/10\n",
      "375/375 [==============================] - 1s 3ms/step - loss: 0.0406 - accuracy: 0.9868\n",
      "Epoch 9/10\n",
      "375/375 [==============================] - 1s 2ms/step - loss: 0.0355 - accuracy: 0.9880\n",
      "Epoch 10/10\n",
      "375/375 [==============================] - 1s 2ms/step - loss: 0.0291 - accuracy: 0.9904\n",
      "Training model for client 4\n",
      "Epoch 1/10\n",
      "375/375 [==============================] - 1s 2ms/step - loss: 0.3942 - accuracy: 0.8811\n",
      "Epoch 2/10\n",
      "375/375 [==============================] - 1s 1ms/step - loss: 0.1592 - accuracy: 0.9492\n",
      "Epoch 3/10\n",
      "375/375 [==============================] - 1s 2ms/step - loss: 0.1110 - accuracy: 0.9653\n",
      "Epoch 4/10\n",
      "375/375 [==============================] - 1s 1ms/step - loss: 0.0830 - accuracy: 0.9732\n",
      "Epoch 5/10\n",
      "375/375 [==============================] - 1s 2ms/step - loss: 0.0610 - accuracy: 0.9806\n",
      "Epoch 6/10\n",
      "375/375 [==============================] - 1s 3ms/step - loss: 0.0481 - accuracy: 0.9848\n",
      "Epoch 7/10\n",
      "375/375 [==============================] - 1s 2ms/step - loss: 0.0425 - accuracy: 0.9862\n",
      "Epoch 8/10\n",
      "375/375 [==============================] - 1s 2ms/step - loss: 0.0427 - accuracy: 0.9856\n",
      "Epoch 9/10\n",
      "375/375 [==============================] - 1s 3ms/step - loss: 0.0292 - accuracy: 0.9898\n",
      "Epoch 10/10\n",
      "375/375 [==============================] - 1s 2ms/step - loss: 0.0268 - accuracy: 0.9906\n",
      "Training completed for all clients.\n"
     ]
    }
   ],
   "source": [
    "# آموزش مدل‌ها برای هر کلاینت و ذخیره پارامترها\n",
    "client_models = [] #لیست برای ذخیره مدل‌های هر کلاینت\n",
    "client_accuracies = []  # لیست برای ذخیره دقت آموزش هر کلاینت\n",
    "\n",
    "base_model = create_mnist_mlp_model()  # مدل پایه\n",
    "base_model.save_weights('base_model_weights.h5') # ذخیره وزن‌های مدل پایه\n",
    "\n",
    "# آموزش مدل برای هر کلاینت\n",
    "for i in range(num_clients):\n",
    "    print(f\"Training model for client {i}\")    \n",
    "    model = create_mnist_mlp_model()\n",
    "    model.set_weights(base_model.get_weights())  # بارگذاری وزن‌های مدل پایه برای هر کلاینت\n",
    "    \n",
    "    model.compile(loss='categorical_crossentropy', optimizer='adam', metrics=['accuracy'])\n",
    "    \n",
    "    # آموزش مدل و ذخیره دقت برای کلاینت\n",
    "    history = model.fit(client_data[i], client_labels[i], epochs=10, batch_size=32, verbose=1)\n",
    "    accuracy = history.history['accuracy'][-1]  # دقت آموزش آخرین ایپوک\n",
    "    client_accuracies.append(f\"Client {i} Training Accuracy: {accuracy:.4f}\")\n",
    "    \n",
    "    client_models.append(model)  # افزودن مدل به لیست\n",
    "print(\"Training completed for all clients.\")"
   ]
  },
  {
   "cell_type": "markdown",
   "id": "8a7f0104-ed75-46d6-8439-d8b4d9ba8bcf",
   "metadata": {},
   "source": [
    "### Class"
   ]
  },
  {
   "cell_type": "code",
   "execution_count": 8,
   "id": "b64986f1-6a6d-4ce6-b081-853d680d50e7",
   "metadata": {
    "scrolled": true
   },
   "outputs": [
    {
     "name": "stdout",
     "output_type": "stream",
     "text": [
      "Difference Matrix for Delta Class:\n",
      "[[  0 479 511 449 474]\n",
      " [479   0 507 434 478]\n",
      " [511 507   0 514 547]\n",
      " [449 434 514   0 439]\n",
      " [474 478 547 439   0]]\n"
     ]
    }
   ],
   "source": [
    "def delta_class(models, x_test):\n",
    "    num_models = len(models)\n",
    "    argmax_preds = [model.predict(x_test).argmax(axis=1) for model in models]   # پیش‌بینی‌ها برای هر مدل\n",
    "    diffs_matrix = np.zeros((num_models, num_models), dtype=int)    # ماتریس مربعی برای ذخیره تفاوت‌ها\n",
    "    for i in range(num_models):       # پر کردن ماتریس با تفاوت پیش‌بینی‌ها\n",
    "        for j in range(i+1, num_models):\n",
    "            diffs = np.sum(argmax_preds[i] != argmax_preds[j])  # تعداد تفاوت‌های پیش‌بینی بین مدل i و مدل j\n",
    "            diffs_matrix[i, j] = diffs\n",
    "            diffs_matrix[j, i] = diffs  # ماتریس متقارن است\n",
    "    return diffs_matrix\n",
    "\n",
    "\n",
    "diff_class = delta_class(client_models, x_test)\n",
    "print(\"Difference Matrix for Delta Class:\")\n",
    "print(diff_class)"
   ]
  },
  {
   "cell_type": "markdown",
   "id": "0868a773-58cd-477e-a7e4-714f6501c957",
   "metadata": {},
   "source": [
    "### Score"
   ]
  },
  {
   "cell_type": "code",
   "execution_count": 9,
   "id": "86b65fb0-aa33-4176-b505-2ea19e19c353",
   "metadata": {
    "scrolled": true
   },
   "outputs": [
    {
     "name": "stdout",
     "output_type": "stream",
     "text": [
      "Distance Matrix for Delta Score:\n",
      "[[   0.  988. 1073.  927.  982.]\n",
      " [ 988.    0. 1064.  929. 1022.]\n",
      " [1073. 1064.    0. 1043. 1106.]\n",
      " [ 927.  929. 1043.    0.  952.]\n",
      " [ 982. 1022. 1106.  952.    0.]]\n"
     ]
    }
   ],
   "source": [
    "def delta_score(models, x_test, threshold):\n",
    "    num_models = len(models)\n",
    "    diffs_matrix = np.zeros((num_models, num_models))\n",
    "\n",
    "    # پیش‌بینی خروجی‌های هر مدل\n",
    "    predictions = [model.predict(x_test) for model in models]\n",
    "    \n",
    "    # محاسبه‌ی argmax برای هر مدل\n",
    "    argmax_preds = [np.argmax(pred, axis=1) for pred in predictions]\n",
    "\n",
    "    # مقایسه مدل‌ها دو به دو\n",
    "    for i in range(num_models):\n",
    "        for j in range(i + 1, num_models):\n",
    "            diff_count = 0  # شمارنده اختلافات\n",
    "\n",
    "            # مقایسه‌ی argmax ها\n",
    "            argmax_diff = argmax_preds[i] != argmax_preds[j]\n",
    "            diff_count += np.sum(argmax_diff)  # اضافه کردن اختلاف در argmax\n",
    "            \n",
    "            # مقایسه‌ی احتمالات برای پیش‌بینی‌های با argmax یکسان\n",
    "            same_argmax_indices = np.where(argmax_preds[i] == argmax_preds[j])[0]\n",
    "            \n",
    "            for idx in same_argmax_indices:\n",
    "                # مقایسه‌ی احتمالات در همان کلاس‌های argmax\n",
    "                prob_i = round(predictions[i][idx][argmax_preds[i][idx]],3)\n",
    "                prob_j = round(predictions[j][idx][argmax_preds[j][idx]],3)\n",
    "                                \n",
    "                # محاسبه اختلاف بین پیش‌بینی‌ها\n",
    "                prob_diff = abs(prob_i - prob_j)\n",
    "               \n",
    "                # بررسی اختلاف با آستانه threshold\n",
    "                if prob_diff >= threshold:\n",
    "                    diff_count += 1  # شمارش اختلاف در پیش‌بینی‌ها\n",
    "\n",
    "            # ذخیره اختلافات در هر دو موقعیت (i, j) و (j, i) برای متقارن بودن\n",
    "            diffs_matrix[i, j] = diff_count\n",
    "            diffs_matrix[j, i] = diff_count\n",
    "\n",
    "    return diffs_matrix\n",
    "\n",
    "# اجرای تابع با تعیین آستانه threshold\n",
    "diff_score = delta_score(client_models, x_test, threshold=0.1)\n",
    "print(\"Distance Matrix for Delta Score:\")\n",
    "print(diff_score)"
   ]
  },
  {
   "cell_type": "markdown",
   "id": "907d4da0-0228-4dd5-a914-a448216d7772",
   "metadata": {},
   "source": [
    "### KS"
   ]
  },
  {
   "cell_type": "code",
   "execution_count": 10,
   "id": "0dda1adf-1401-47d2-9067-bdf49f862091",
   "metadata": {
    "scrolled": true
   },
   "outputs": [
    {
     "name": "stdout",
     "output_type": "stream",
     "text": [
      "Distance Matrix for KS:\n",
      "[[0.     0.023  0.0392 0.0246 0.0617]\n",
      " [0.023  0.     0.0351 0.019  0.0644]\n",
      " [0.0392 0.0351 0.     0.0257 0.0461]\n",
      " [0.0246 0.019  0.0257 0.     0.0465]\n",
      " [0.0617 0.0644 0.0461 0.0465 0.    ]]\n"
     ]
    }
   ],
   "source": [
    "def ks(models, x_test):\n",
    "    num_samples = x_test.shape[0]\n",
    "    num_models = len(models)\n",
    "\n",
    "    # مرحله 1: پیش‌بینی کلاس‌ها برای داده‌های تست توسط هر مدل\n",
    "    argmax_preds = np.array([model.predict(x_test).argmax(axis=1) for model in client_models])\n",
    "\n",
    "    # مرحله 2: یافتن کلاس پرتکرار برای هر نمونه\n",
    "    most_frequent_classes = [Counter(argmax_preds[:, i]).most_common(1)[0][0] for i in range(num_samples)]\n",
    "\n",
    "    # مرحله 3: استخراج احتمال کلاس پرتکرار از تمامی مدل‌ها برای هر نمونه\n",
    "    all_probabilities = np.zeros((num_samples, num_clients))\n",
    "    for i, model in enumerate(client_models):\n",
    "        predictions = model.predict(x_test)  # احتمالات کلاس‌های مختلف برای هر نمونه\n",
    "        for j, sample in enumerate(x_test):\n",
    "            most_frequent_class = most_frequent_classes[j]\n",
    "            all_probabilities[j, i] = predictions[j, most_frequent_class]  # احتمال کلاس پرتکرار\n",
    "    # مرحله 4: انجام تست KS بین مدل‌های کلاینت و ایجاد ماتریس KS\n",
    "    ks_distance_matrix = np.zeros((num_clients, num_clients))\n",
    "    for i in range(num_clients):\n",
    "        for j in range(i + 1, num_clients):\n",
    "            # تست KS برای مقایسه احتمالات دو مدل کلاینت\n",
    "            ks_statistic, _ = ks_2samp(all_probabilities[:, i], all_probabilities[:, j])\n",
    "            ks_distance_matrix[i, j] = ks_statistic\n",
    "            ks_distance_matrix[j, i] = ks_statistic  # ماتریس متقارن\n",
    "\n",
    "    return ks_distance_matrix\n",
    "\n",
    "# اجرای تابع با تعیین تعداد ارقام اعشار\n",
    "matrix_ks = ks(client_models, x_test)\n",
    "print(\"Distance Matrix for KS:\")\n",
    "print(matrix_ks)"
   ]
  },
  {
   "cell_type": "markdown",
   "id": "8be14f48-75e7-4874-9c73-7a91c69af338",
   "metadata": {},
   "source": [
    "### Chi2"
   ]
  },
  {
   "cell_type": "code",
   "execution_count": 11,
   "id": "625c0aa8-a02a-4887-80fc-1a2d6718ff07",
   "metadata": {
    "scrolled": true
   },
   "outputs": [
    {
     "name": "stdout",
     "output_type": "stream",
     "text": [
      "Distance Matrix for Chi square:\n",
      "[[    0.         80622.05117423 80083.7776993  81201.17135377\n",
      "  80743.1954507 ]\n",
      " [80622.05117423     0.         80112.33064614 81474.52551149\n",
      "  80625.48102528]\n",
      " [80083.7776993  80112.33064614     0.         80041.51108519\n",
      "  79371.5498519 ]\n",
      " [81201.17135377 81474.52551149 80041.51108519     0.\n",
      "  81377.24182738]\n",
      " [80743.1954507  80625.48102528 79371.5498519  81377.24182738\n",
      "      0.        ]]\n"
     ]
    }
   ],
   "source": [
    "def chi_square(models, x_test):\n",
    "    num_models = len(models)\n",
    "    num_samples = x_test.shape[0] # تعداد نمونه‌ها  \n",
    "    n_classes = 10  # تعداد کلاس ها\n",
    "\n",
    "    # ساخت ماتریس متقارن برای نتایج Chi-Square\n",
    "    chi2_matrix = np.zeros((num_models, num_models))\n",
    "    all_probabilities = np.zeros((num_samples, num_models))\n",
    "\n",
    "    for i, model in enumerate(models):\n",
    "        predictions = model.predict(x_test)  # احتمالات کلاس‌های مختلف برای هر نمونه\n",
    "        for j, sample in enumerate(x_test):\n",
    "            all_probabilities[j, i] = predictions[j].argmax()\n",
    "\n",
    "    # مرحله: ایجاد جدول‌های متقاطع و انجام تست Chi-Square\n",
    "    for i in range(num_models):\n",
    "        for j in range(i + 1, num_models):\n",
    "            # ساخت جدول متقاطع\n",
    "            contingency_table = pd.crosstab(all_probabilities[:, i], all_probabilities[:, j])\n",
    "            chi2_stat, p_value, _, _ = chi2_contingency(contingency_table)\n",
    "            chi2_matrix[i, j] = chi2_stat\n",
    "            chi2_matrix[j, i] = chi2_stat  # ماتریس متقارن\n",
    "\n",
    "    return chi2_matrix\n",
    "\n",
    "# اجرای تابع با تعیین تعداد ارقام اعشار\n",
    "matrix_chi2 = chi_square(client_models, x_test)\n",
    "print(\"Distance Matrix for Chi square:\")\n",
    "print(matrix_chi2)"
   ]
  },
  {
   "cell_type": "markdown",
   "id": "377a9d7c-bc15-4ec1-9672-2dc568365e48",
   "metadata": {},
   "source": [
    "### The problematic client"
   ]
  },
  {
   "cell_type": "code",
   "execution_count": 12,
   "id": "d6e935ca-5d5f-4126-870e-4cd446038e91",
   "metadata": {},
   "outputs": [
    {
     "name": "stdout",
     "output_type": "stream",
     "text": [
      "Index Problemmatic Clients for Delta class:[2 3]\n",
      "Index Problemmatic Clients for Delta Score: [2]\n",
      "IndexProblemmatic Clients for KS: [3 4]\n",
      "Index Problemmatic Clients for X2: [2 3]\n"
     ]
    }
   ],
   "source": [
    "def meancal(matrix):\n",
    "    temp = 0\n",
    "    x = matrix.shape[0]    \n",
    "    arrmean = []\n",
    "    for i in range(0,x):\n",
    "        temp = (matrix[i].mean())    \n",
    "        arrmean.append(temp)\n",
    "    return arrmean\n",
    "\n",
    "def iqrfunc(nparray):\n",
    "    data = np.array(nparray)\n",
    "    q1 = np.percentile(data,25)\n",
    "    q3 = np.percentile(data,75)\n",
    "    iqr = q3 -q1\n",
    "    lower_bound = q1-(iqr*1.5)\n",
    "    upper_bound = q3+(iqr*1.5)\n",
    "    outliers = np.where((data<lower_bound) | (data>upper_bound))[0]\n",
    "    return outliers\n",
    "    \n",
    "temp_c = meancal(diff_class)\n",
    "temp_s = meancal(diff_score)\n",
    "temp_ks = meancal(matrix_ks)\n",
    "temp_chi2 = meancal(matrix_chi2)\n",
    "\n",
    "print(f\"Index Problemmatic Clients for Delta class:{iqrfunc(temp_c)}\")                       \n",
    "print(f\"Index Problemmatic Clients for Delta Score: {iqrfunc(temp_s)}\")                                            \n",
    "print(f\"IndexProblemmatic Clients for KS: {iqrfunc(temp_ks)}\")                       \n",
    "print(f\"Index Problemmatic Clients for X2: {iqrfunc(temp_chi2)}\") "
   ]
  },
  {
   "cell_type": "markdown",
   "id": "4adc2ac4-1985-4519-8d59-0063d38cc7e0",
   "metadata": {},
   "source": [
    "### Save in txt file"
   ]
  },
  {
   "cell_type": "code",
   "execution_count": 13,
   "id": "4c75fa23-aecb-435e-b35a-17c824cf5b15",
   "metadata": {},
   "outputs": [],
   "source": [
    "changes_dir = 'C:/Users/TOP/Thesis/Last_Code/Log_Changes' # مسیر کامل برای ذخیره‌سازی فایل تغییرات\n",
    "os.makedirs(changes_dir, exist_ok=True)  # پوشه را ایجاد می‌کند اگر وجود نداشته باشد\n",
    "log_file_path = os.path.join(changes_dir, 'Seed(42)_Bugless.txt')\n",
    "def log_change(change_name, description):\n",
    "    with open(log_file_path, 'a', encoding='utf-8') as log_file:\n",
    "        log_file.write(f'--- {change_name} ---\\n')\n",
    "        log_file.write(f'Time: {datetime.now()}\\n')\n",
    "        log_file.write(f'Description: {description}\\n')\n",
    "        log_file.write('-----------------------------\\n')\n",
    "accuracy_log = \"\\n\".join(client_accuracies)\n",
    "\n",
    "changes_description = (\n",
    "    \"Changes Made:\\n\"\n",
    "    \"1. تعداد کلاینتها 5 \\n\"\n",
    "    # \"2. (36, 2, 27, 30, 49, 0, 13, 29, 31, 17, 10, 48)اجرا با 25% باگ\\n\"\n",
    "    \"2. بدون باگ\\n\"\n",
    "    \"3. round = (_,3) , threshold=0.1 در تابع score\\n\"\n",
    "    \"4. Model:\"\n",
    "    \"\"\"\n",
    "        model = Sequential()\n",
    "        model.add(Dense(128, activation='relu', input_shape=(784,)))\n",
    "        # model.add(Dropout(0.5))\n",
    "        model.add(BatchNormalization())  \n",
    "        model.add(Dense(128, activation='relu'))\n",
    "        # model.add(Dropout(0.3))\n",
    "        model.add(Dense(10, activation='softmax'))  \n",
    "        optimizer = Adam(learning_rate=0.01)\n",
    "     \"\"\"\"\\n\"\n",
    "    \"5. np.random.shuffle(combined)\\n\"\n",
    "    # \"5. x_train, y_train = shuffle(x_train, y_train)\\n\" \n",
    "    \"6. epochs=10, batch_size=32\\n\"\n",
    "    \"7. np.random.seed(42)\"\n",
    "       )\n",
    "full_log = (\n",
    "    f\"{changes_description}\\n\"\n",
    "    f\"Results:\\n\"\n",
    "    f\"{accuracy_log}\\n\\n\"\n",
    "    f\"Index Problemmatic Clients for Delta class: {iqrfunc(temp_c)}\\n\"\n",
    "    f\"Index Problemmatic Clients for Delta Score: {iqrfunc(temp_s)}\\n\"\n",
    "    f\"Index Problemmatic Clients for KS: {iqrfunc(temp_ks)}\\n\"\n",
    "    f\"Index Problemmatic Clients for X2: {iqrfunc(temp_chi2)}\\n\"   \n",
    ")\n",
    "\n",
    "log_change(\"All changes\", full_log)"
   ]
  },
  {
   "cell_type": "code",
   "execution_count": null,
   "id": "2f34eb9d-aeb6-44ab-b749-b6866163d0bc",
   "metadata": {},
   "outputs": [],
   "source": []
  },
  {
   "cell_type": "code",
   "execution_count": null,
   "id": "8f7ee206-4a4f-4bcf-a20d-0fe46f6fd629",
   "metadata": {},
   "outputs": [],
   "source": []
  }
 ],
 "metadata": {
  "kernelspec": {
   "display_name": "evn8",
   "language": "python",
   "name": "evn8"
  },
  "language_info": {
   "codemirror_mode": {
    "name": "ipython",
    "version": 3
   },
   "file_extension": ".py",
   "mimetype": "text/x-python",
   "name": "python",
   "nbconvert_exporter": "python",
   "pygments_lexer": "ipython3",
   "version": "3.8.19"
  }
 },
 "nbformat": 4,
 "nbformat_minor": 5
}
